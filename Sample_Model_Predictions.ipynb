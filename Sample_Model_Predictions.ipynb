{
 "cells": [
  {
   "cell_type": "code",
   "execution_count": 1,
   "id": "0c3640da-3e81-471c-ba7a-6dfd31920bf1",
   "metadata": {},
   "outputs": [],
   "source": [
    "# Imports\n",
    "from StreamlitApp.util import extract_frames, make_predictions, read_align_file"
   ]
  },
  {
   "cell_type": "code",
   "execution_count": 2,
   "id": "b06ca952",
   "metadata": {},
   "outputs": [],
   "source": [
    "# Dataset root directory path\n",
    "dataset_dir = 'dataset/'\n",
    "\n",
    "# Path to videos and align files\n",
    "videos_path = dataset_dir + 'Videos/'\n",
    "align_path = dataset_dir + 'Aligns/'"
   ]
  },
  {
   "cell_type": "code",
   "execution_count": 3,
   "id": "04fae806",
   "metadata": {},
   "outputs": [],
   "source": [
    "# Load a sample video and align file to make prediction\n",
    "video_file = videos_path + 'bbaf2n.mpg'\n",
    "align_file = align_path + 'bbaf2n.align'"
   ]
  },
  {
   "cell_type": "code",
   "execution_count": 4,
   "id": "a38aaf31",
   "metadata": {},
   "outputs": [],
   "source": [
    "# Extract frames from the video file to use as input for the model.\n",
    "model_input = extract_frames(video_file)\n",
    "\n",
    "# Read the align file to extract original text.\n",
    "original_text = read_align_file(align_file)"
   ]
  },
  {
   "cell_type": "code",
   "execution_count": 5,
   "id": "940251ac",
   "metadata": {},
   "outputs": [
    {
     "name": "stdout",
     "output_type": "stream",
     "text": [
      "\u001b[1m1/1\u001b[0m \u001b[32m━━━━━━━━━━━━━━━━━━━━\u001b[0m\u001b[37m\u001b[0m \u001b[1m1s\u001b[0m 1s/step\n"
     ]
    }
   ],
   "source": [
    "# Make prediction using the trained model.\n",
    "predicted_text = make_predictions(model_input)"
   ]
  },
  {
   "cell_type": "code",
   "execution_count": 6,
   "id": "6eee3301",
   "metadata": {},
   "outputs": [
    {
     "name": "stdout",
     "output_type": "stream",
     "text": [
      "Results\n",
      "~~~~~~~~~~~~~~~~~~~~~~~~~~~~~~~~~~~~~~~~~~~~~~~~~~\n",
      "Original Text: bin blue at f two now\n",
      "Predicted Text: bin blue at ow now\n",
      "~~~~~~~~~~~~~~~~~~~~~~~~~~~~~~~~~~~~~~~~~~~~~~~~~~\n"
     ]
    }
   ],
   "source": [
    "# Model Results\n",
    "\n",
    "print(\"Results\")\n",
    "print(\"~\"*50)\n",
    "print(\"Original Text:\", original_text)\n",
    "print(\"Predicted Text:\", predicted_text)\n",
    "print(\"~\"*50)"
   ]
  },
  {
   "cell_type": "code",
   "execution_count": null,
   "id": "45e44583",
   "metadata": {},
   "outputs": [],
   "source": []
  }
 ],
 "metadata": {
  "kernelspec": {
   "display_name": "env",
   "language": "python",
   "name": "python3"
  },
  "language_info": {
   "codemirror_mode": {
    "name": "ipython",
    "version": 3
   },
   "file_extension": ".py",
   "mimetype": "text/x-python",
   "name": "python",
   "nbconvert_exporter": "python",
   "pygments_lexer": "ipython3",
   "version": "3.12.2"
  }
 },
 "nbformat": 4,
 "nbformat_minor": 5
}
